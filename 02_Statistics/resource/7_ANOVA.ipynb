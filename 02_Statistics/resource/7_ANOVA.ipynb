{
 "cells": [
  {
   "cell_type": "markdown",
   "metadata": {},
   "source": [
    "## ANOVA\n",
    "\n",
    "<hr>"
   ]
  },
  {
   "cell_type": "markdown",
   "metadata": {},
   "source": [
    "## Reference\n",
    "\n",
    "1. https://www.statisticshowto.datasciencecentral.com/probability-and-statistics/hypothesis-testing/anova/\n",
    "2. https://www.analyticsvidhya.com/blog/2018/01/anova-analysis-of-variance/\n",
    "3. https://www.investopedia.com/terms/a/anova.asp\n",
    "4. https://www.spss-tutorials.com/anova-what-is-it/\n",
    "5. https://www.statisticssolutions.com/manova-analysis-anova/"
   ]
  }
 ],
 "metadata": {
  "kernelspec": {
   "display_name": "Python 3",
   "language": "python",
   "name": "python3"
  },
  "language_info": {
   "codemirror_mode": {
    "name": "ipython",
    "version": 3
   },
   "file_extension": ".py",
   "mimetype": "text/x-python",
   "name": "python",
   "nbconvert_exporter": "python",
   "pygments_lexer": "ipython3",
   "version": "3.7.2"
  }
 },
 "nbformat": 4,
 "nbformat_minor": 2
}
