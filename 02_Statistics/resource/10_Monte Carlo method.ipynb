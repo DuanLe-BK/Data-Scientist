{
 "cells": [
  {
   "cell_type": "markdown",
   "metadata": {},
   "source": [
    "## An Overview of Monte Carlo Methods\n",
    "\n",
    "<hr>\n",
    "\n",
    "Monte Carlo (MC) methods are a subset of computational algorithms that use the process of repeated random sampling to make numerical estimations of unknown parameters.\n",
    "\n",
    "They allow for the modeling of complex situations where many random variables are involved, and assessing the impact of risk. <br>\n",
    "The uses of MC are incredibly wide-ranging, and have led to a number of groundbreaking discoveries in the fields of physics, game theory, and finance. <br>\n",
    "There are a broad spectrum of Monte Carlo methods, but they all share the commonality that they rely on random number generation to solve deterministic problems.<br>\n",
    "\n",
    "The concept was invented by Stanislaw Ulam, a mathematician who devised these methods as part of his contribution to the Manhattan Project. He used the tools of random sampling and inferential statistics to model likelihoods of outcomes, originally applied to a card game (Monte Carlo Solitaire). <br>\n",
    "\n",
    "lets talk about a simple case; a game of blackjack. <br>\n",
    "\n",
    "If we wanted to find the probability of getting blackjack (an ace along with a ten-valued card), we could simply count the number of possible hands where this is the case, and divide by the total number of possible combinations of cards to get the probability (its around 1/21, if you are curious).<br>\n",
    "But now imagine our sample space is much harder to compute, for example our deck of cards has thousands as opposed to just 52 cards, or better yet we don’t even know how many cards there are. There is another way to find this probability.<br>\n",
    "\n",
    "We could hunker down at the table and play a hundred games, recording the outcomes as we play. We might get a blackjack 19, 20 or even 28 times, and assign the probability using any of those values. <br>\n",
    "We could hunker down at the table and play a hundred games, recording the outcomes as we play. We might get a blackjack 19, 20 or even 28 times, and assign the probability using any of those values. <br>\n",
    "Seems like a pretty bad way to assess our odds at the casino, but hopefully we’re just playing for fun.<br>\n",
    "Now if we go again and play a thousand, ten thousand, millions of times, the Law of Large Numbers states:<br>\n",
    "_“As the number of identically distributed, randomly generated variables increases, their sample mean (average) approaches their theoretical mean.”_\n",
    "\n",
    "\n",
    "Besides being easily one of the most important laws of statistics, this is the basis for Monte Carlo simulations and allows us to build a stochastic model by the method of statistical trials."
   ]
  },
  {
   "cell_type": "markdown",
   "metadata": {},
   "source": [
    "## Monte Carlo Estimate of Pi\n",
    "\n",
    "__pi__ is a constant that represents the ratio of the circumference to the diameter of a circle. \n",
    "It is irrational, meaning it has infinite digits which follow no pattern.\n",
    "\n",
    "Would you believe me if I told you we can estimate pi to as many digits as we like by simply playing a game of darts? <br>\n",
    "To a certain degree of uncertainty, of course, after all we are playing a game of chance! \n"
   ]
  },
  {
   "cell_type": "code",
   "execution_count": 13,
   "metadata": {},
   "outputs": [
    {
     "name": "stdout",
     "output_type": "stream",
     "text": [
      "ESTIMATE OF PI: 3.142192\n"
     ]
    }
   ],
   "source": [
    "import numpy as np\n",
    "import matplotlib.pyplot as plt\n",
    "\n",
    "n = 1000000\n",
    "x = np.random.rand(n, 2)\n",
    "inside = x[np.sqrt(x[:, 0]**2+x[:, 1]**2) < 1]\n",
    "estimate = 4 * len(inside) / len(x)\n",
    "print(\"ESTIMATE OF PI: {}\".format(estimate))"
   ]
  },
  {
   "cell_type": "code",
   "execution_count": 14,
   "metadata": {},
   "outputs": [
    {
     "data": {
      "image/png": "[encoded data removed]",
      "text/plain": [
       "<Figure size 576x576 with 1 Axes>"
      ]
     },
     "metadata": {
      "needs_background": "light"
     },
     "output_type": "display_data"
    }
   ],
   "source": [
    "plt.figure(figsize=(8,8))\n",
    "plt.scatter(x[:,0], x[:,1], s=0.5, c='red')\n",
    "plt.scatter(inside[:,0], inside[:,1], s=0.5, c='blue')\n",
    "plt.show()"
   ]
  },
  {
   "cell_type": "markdown",
   "metadata": {},
   "source": [
    "For this example, the location of our darts must be uniformly distributed throughout the area, so we’re definitely not winning too many games here. From the setup of our game, the probability of a darts hitting the board will be π/4 . As we keep playing, and as n –> ∞ we approach this true value(Thanks Bernoulli!)."
   ]
  },
  {
   "cell_type": "markdown",
   "metadata": {},
   "source": [
    "This is all well and good, but I already know that pi is 3.14159… and what in the real world is uniformly distributed? Have no fear, for when using MC methods to model higher-dimensional systems, we will need to sample all sorts of random variables, with different probability distributions that more accurately represent the effects of the parameters in our model. What kind of real world stuff can I do with this?"
   ]
  },
  {
   "cell_type": "markdown",
   "metadata": {},
   "source": [
    "## High-Energy Physics\n",
    "\n",
    "One major application of Monte Carlo that is near and dear to my heart is in the world of particle physics. In the quantum (very small-scale) world, things are not easily observable and this is especially true at the point of collision in a particle accelerator. <br>\n",
    "\n",
    "MC methods allow physicists to run simulations of these events, based on the Standard Model, and parameters which have been determined from previous experiments.<br>\n",
    "\n",
    "uge scale projects like the LHC already produce an immense quantity of data, so N is already huge before we even start randomly sampling. So one small thing MC is useful for is probing the fundamental fabric of matter itself. <br>\n",
    "\n"
   ]
  },
  {
   "cell_type": "markdown",
   "metadata": {},
   "source": [
    "## Finance\n",
    "\n",
    "If that doesn’t seem exciting enough to you, MC is extensively used in financial engineering for stock market forecasting. <br>\n",
    "\n",
    "This makes intuitive sense, as the market is impossibly difficult to model, has unbelievably high dimensionality, and has plenty of data to be sampled from.  The importance of risk is another large factor in why financial analysts use MC methods. <br>\n",
    "\n",
    "One relatively straightforward application of Monte Carlo in this field is portfolio optimization. I highly recommend [this blog post](https://medium.com/python-data/effient-frontier-in-python-34b0c3043314) on the topic, which breaks down in detail how to write the code for this type of analysis, but to summarize:<br>"
   ]
  },
  {
   "cell_type": "markdown",
   "metadata": {},
   "source": [
    "When picking a portfolio of stocks, you may be willing to take on different levels of risk depending on your goals. But regardless of your willingness to accept risk, you can maximize your returns per volatility of the portfolio by using Monte Carlo to find the optimal combinations and proportions of stocks.<br>\n",
    "\n",
    "Using historical data one can generate hundreds of thousands of different combinations of stocks in different ratios, to see how each each would perform relative to each other during that time period. Then one can choose the optimal configuration using a metric called a Sharpe ratio (a measure of the performance of an investment’s returns given its risk.)<br>\n",
    "\n",
    "\n",
    "If the promises of wealth and knowledge weren’t enough to pique your interest, Markov Chain Monte Carlo methods offer a powerful tool for training deep learning algorithms. <br>\n",
    "Data scientists and machine learning engineers can use these techniques to do all sorts of weird and wonderful things. <br>\n",
    "If you are interested reading more about Monte Carlo, I would recommend the following resources: <br>\n",
    "\n",
    "beginner: http://www.statisticshowto.com/monte-carlo-simulation/\n",
    "\n",
    "intermediate: http://mathforum.org/library/drmath/view/51909.html\n",
    "\n",
    "```\n",
    "\"Algorithms like these, which use random numbers to approximate \n",
    "deterministic outcomes, are called Monte Carlo methods, after the \n",
    "famous casino city where random numbers produce a deterministic \n",
    "outcome (the house wins the gambler's money).\"\n",
    "```\n",
    "\n",
    "advanced: http://farside.ph.utexas.edu/teaching/329/lectures/node109.html\n",
    "\n",
    "https://www.coursera.org/lecture/bayesian-methods-in-machine-learning/bayesian-neural-networks-HI8ta"
   ]
  },
  {
   "cell_type": "markdown",
   "metadata": {},
   "source": [
    "## Refference\n",
    "\n",
    "1. https://towardsdatascience.com/an-overview-of-monte-carlo-methods-675384eb1694\n",
    "2. https://www.palisade.com/risk/monte_carlo_simulation.asp\n",
    "3. https://www.investopedia.com/terms/m/montecarlosimulation.asp\n",
    "4. https://www.statisticssolutions.com/monte-carlo-methods/"
   ]
  }
 ],
 "metadata": {
  "kernelspec": {
   "display_name": "Python 3",
   "language": "python",
   "name": "python3"
  },
  "language_info": {
   "codemirror_mode": {
    "name": "ipython",
    "version": 3
   },
   "file_extension": ".py",
   "mimetype": "text/x-python",
   "name": "python",
   "nbconvert_exporter": "python",
   "pygments_lexer": "ipython3",
   "version": "3.7.2"
  }
 },
 "nbformat": 4,
 "nbformat_minor": 2
}
